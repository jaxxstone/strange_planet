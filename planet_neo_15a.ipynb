{
 "cells": [
  {
   "cell_type": "markdown",
   "metadata": {
    "slideshow": {
     "slide_type": "slide"
    }
   },
   "source": [
    "# Planet neo4j\n",
    "\n",
    "This notebook walks through integrating \"the strange planet\"  custom code with Neo4j graph database. It is including `py2neo`, `ipython-cypher`, `pandas` packages.\n",
    "Neo4j is graph database (it is prerequisite to be installed and running on the same machine).\n",
    "Neo4j authentication should be set to require=false (otherwise causes cypher query errors)."
   ]
  },
  {
   "cell_type": "markdown",
   "metadata": {
    "slideshow": {
     "slide_type": "slide"
    }
   },
   "source": [
    "# py2neo\n",
    "\n",
    "`py2neo` is one of Neo4j's Python drivers. It offers a fully-featured interface for interacting with your data in Neo4j. Install `py2neo` with `pip install py2neo` or through anaconda (`conda install py2neo`) or winpython console."
   ]
  },
  {
   "cell_type": "markdown",
   "metadata": {
    "slideshow": {
     "slide_type": "subslide"
    }
   },
   "source": [
    "### Code\n",
    "\n",
    "Corrected the parrent-child state transition logic for cases where groups (m) >3 (replaced If constructs with For loop)."
   ]
  },
  {
   "cell_type": "code",
   "execution_count": null,
   "metadata": {
    "collapsed": false
   },
   "outputs": [],
   "source": [
    "# strange planet program\n",
    "# rule: 2 species contribute by 1 each to produce qty 2 of the next specie (in m>3 this should allow for all comb)\n",
    "# v15a - inc to v14b -jgraph +neo4j. Neo (user: neo4j, pass: test)\n",
    "# initial combinations set produced based on: https://docs.python.org/2/library/itertools.html \n",
    "# logical graph implemented based on: http://interactivepython.org/runestone/static/pythonds/Graphs/Implementation.html\n",
    "# Neo4j and python integration based on: http://nicolewhite.github.io/neo4j-jupyter/hello-world.html\n",
    "# ...and bunch of neo4j literature (still don't get it completely, sometimes it behaves unexpected)\n",
    "from itertools import combinations\n",
    "from itertools import combinations_with_replacement\n",
    "import numpy as np\n",
    "import pandas as pd\n",
    "import copy\n",
    "from py2neo import authenticate, Graph\n",
    "from py2neo import Node, Relationship, NodeSelector\n",
    "from py2neo import Graph as PGraph\n",
    "import jgraph\n",
    "from neo4jrestclient.client import GraphDatabase\n",
    "\n",
    "# used by simple logical graph construct\n",
    "class Vertex:\n",
    "    def __init__(self,key):\n",
    "        self.id = key\n",
    "        self.connectedTo = {}\n",
    "\n",
    "    def addNeighbor(self,nbr,weight=0):\n",
    "        self.connectedTo[nbr] = weight\n",
    "\n",
    "    def __str__(self):\n",
    "        return str(self.id) + ' connectedTo: ' + str([x.id for x in self.connectedTo])\n",
    "\n",
    "    def getConnections(self):\n",
    "        return self.connectedTo.keys()\n",
    "\n",
    "    def getId(self):\n",
    "        return self.id\n",
    "\n",
    "    def getWeight(self,nbr):\n",
    "        return self.connectedTo[nbr]\n",
    "\n",
    "# simple logical graph construct, gets job done    \n",
    "class GraphI:\n",
    "    def __init__(self):\n",
    "        self.vertList = {}\n",
    "        self.numVertices = 0\n",
    "\n",
    "    def addVertex(self,key):\n",
    "        self.numVertices = self.numVertices + 1\n",
    "        newVertex = Vertex(key)\n",
    "        self.vertList[key] = newVertex\n",
    "        return newVertex\n",
    "\n",
    "    def getVertex(self,n):\n",
    "        if n in self.vertList:\n",
    "            return self.vertList[n]\n",
    "        else:\n",
    "            return None\n",
    "\n",
    "    def __contains__(self,n):\n",
    "        return n in self.vertList\n",
    "\n",
    "    def addEdge(self,f,t,cost=0):\n",
    "        if f not in self.vertList:\n",
    "            nv = self.addVertex(f)\n",
    "        if t not in self.vertList:\n",
    "            nv = self.addVertex(t)\n",
    "        self.vertList[f].addNeighbor(self.vertList[t], cost)\n",
    "\n",
    "    def getVertices(self):\n",
    "        return self.vertList.keys()\n",
    "\n",
    "    def __iter__(self):\n",
    "        return iter(self.vertList.values())\n",
    "\n",
    "def add_to_final_struct(g, out, out1):\n",
    "    out1p = [int(e) for e in out1]\n",
    "    outp = [int(e) for e in out]\n",
    "    parent_node =''.join(str(e) for e in outp) # if n has more than single digit replace '' with '-' on this and next line\n",
    "    child_node = ''.join(str(e) for e in (sorted((out1p), reverse=True)))    \n",
    "##    print (\"Parent node: \", parent_node)\n",
    "##    print (\"Child node: \", child_node)\n",
    "    if (g.getVertex(parent_node) == None):\n",
    "        g.addVertex(parent_node)\n",
    "        \n",
    "    parnt = g.getVertex(parent_node)\n",
    "    if (g.getVertex(child_node) == None):\n",
    "        g.addVertex(child_node)\n",
    "    chld = g.getVertex(child_node)\n",
    "    # this is for neo, need to find out what makes sense to keep parent and child the same node\n",
    "#    parnt = Node(\"Parent\", name=parent_node)\n",
    "    reps = 0\n",
    "    for parnt in g:\n",
    "        if chld in parnt.getConnections():\n",
    "            reps = parnt.getWeight(chld) # getting number of repeated trips or connections from parent to child\n",
    "    # need to make increment instead of 1 in the line below\n",
    "    g.addEdge(parent_node, child_node, reps+1)  # add relationship to external db table from here\n",
    "##    for v in g:\n",
    "##        for w in v.getConnections():\n",
    "##            print(\"( %s, %s )\" % (v.getId(), w.getId()))\n",
    "    return 0\n",
    "\n",
    "#############################################################################\n",
    "## **** MAIN ****\n",
    "#############################################################################\n",
    "\n",
    "n = int(input (\"Enter the total number of individuals: \")) # number of people\n",
    "m = int(input(\"Enter the number of species: \")) # number of groups\n",
    "\n",
    "lst = range(n, -1, -1)\n",
    "alist = []\n",
    "# need to replace the following 5 lines with the iterative construct as further below\n",
    "# complexity of python comb_with_repl is O(r * (n! / (r! (n - r)!))), discussed at the link below\n",
    "# see: http://stackoverflow.com/questions/20764926/combinations-without-using-itertools-combinations\n",
    "for comb in combinations_with_replacement(lst,m):\n",
    "    if sum(comb) == n:\n",
    "        alist.append(comb)        \n",
    "print (alist)\n",
    "total_combinations = len(alist)\n",
    "print (\"Number of combinations: \", total_combinations)\n",
    "\n",
    "# need comb# X comb#+1 - one more column for the row case state\n",
    "# intersaction of rows and columns gives relationship for each state (row is child)\n",
    "final_struct = pd.DataFrame(index = range(len(alist)-len(alist) +1), columns = [])\n",
    "\n",
    "g = GraphI() # logical attempt, v9\n",
    "\n",
    "# set up authentication parameters\n",
    "authenticate(\"localhost:7474\", \"neo4j\", \"test\")\n",
    "\n",
    "# connect to authenticated graph database, v10 of program\n",
    "graph = Graph(\"http://localhost:7474/db/data/\")\n",
    "db = GraphDatabase(\"http://localhost:7474/db/data/\") # this is using REST Client\n",
    "graph.delete_all()\n",
    "\n",
    "row_cnt = 0\n",
    "\n",
    "for comb in alist:\n",
    "    count = 0\n",
    "    # next For and If constructs take care of MUST_FAIL case where there is less than 2 species on the planet\n",
    "    for i in range(m):\n",
    "        if (comb[i] == 0):\n",
    "            count = count + 1\n",
    "    if (count >= m-1):\n",
    "        print (\"Must fail: \", comb) # need to add \"must_fail\" combination to db table from here\n",
    "        must_fail = [int(e) for e in comb]\n",
    "        p_must_fail =''.join(str(e) for e in must_fail) # for more than single digit n, change '' to '-' as separator\n",
    "        if (g.getVertex(p_must_fail) == None):\n",
    "            g.addVertex(p_must_fail)\n",
    "        # add comb to final_struct\n",
    "        temp = ','.join(map(str, comb))\n",
    "#        print (\"temp: \" , temp)\n",
    "        final_struct[0, row_cnt] = temp # am I using this???\n",
    "        row_cnt = row_cnt + 1\n",
    "        \n",
    "    else: # there are at least 2 elements !=0, so they can produce child\n",
    "        out = np.zeros(m)\n",
    "        for i in range (m):\n",
    "            if (comb[i] != 0):\n",
    "                out[i] = comb[i]\n",
    "        print (\"parent: \", out)\n",
    "        temp = ','.join(map(str, comb))\n",
    "        final_struct[0, row_cnt] = temp\n",
    "        row_cnt = row_cnt + 1\n",
    "\n",
    "        # decrement value of j-th element (first working value in the tuple) - line 63\n",
    "        for i in range(m):\n",
    "            if (out[i] != 0):\n",
    "                #out1 = np.zeros(m)\n",
    "                out1 = copy.deepcopy(out)\n",
    "                out1[i] = out[i] - 1\n",
    "                for j in range(i+1, m):\n",
    "                    if (out[j] != 0): #line 65 pseudocode\n",
    "                        out1[j] = out[j] - 1\n",
    "##                        if (j == m-1):\n",
    "##                            if (j-i > 1):\n",
    "##                                out1[i+1] = out[i+1] + 2\n",
    "##                            else:\n",
    "##                                out1[0] = out[0] + 2\n",
    "##                        else:\n",
    "##                            out1[j+1] = out[j+1] + 2 # line 79 pseudocode\n",
    "                        out2 = copy.deepcopy(out1)\n",
    "                        for k in range(m):\n",
    "                            if (i != k and j != k):\n",
    "                                out1[k] = out[k] + 2\n",
    "                                print (\"\\tchild: \", out1)\n",
    "                                add_to_final_struct(g, out, out1) # call to subrotine, check complexity\n",
    "                                out1 = copy.deepcopy(out2)\n",
    "                    else:\n",
    "                        break\n",
    "                    #out1 = sorted(out1, reverse=True) # need to sort outside of the loop, in add_to_final_struct\n",
    "#                    print (\"\\tbottom: \", out1)\n",
    "                    out1 = copy.deepcopy(out)\n",
    "                    if (j != m-1):\n",
    "                        out1[i] = out[i] - 1\n",
    "                    #add_to_final_struct(final_struct, out, out1) #tbd \n",
    "                   \n",
    "#print (final_struct.head) # planned to use this for adjacency matrix, by appending to df\n",
    "#print (\"0,1: \", final_struct.values[0,1])  # for test only\n",
    "#final_mtx = final_struct.as_matrix(columns=None)\n",
    "#print (final_mtx.ndim)\n",
    "\n",
    "##neo = pd.Series(data, index = 10)\n",
    "next_v = 0\n",
    "next_w = 1\n",
    "vertice = np.zeros(3)\n",
    "node = db.labels.create(\"Case\")\n",
    "\n",
    "from scripts.vis import draw\n",
    "options = {\"State\": \"name\"}\n",
    "\n",
    "#v_arr = np.array(range(3), dtype=str)\n",
    "v_arr = []\n",
    "w_arr = np.array(range(3), dtype=str)\n",
    "print (sorted(g.getVertices(), reverse=True)) # printing all vertices\n",
    "\n",
    "query = \"\"\"\n",
    "MATCH (p:State)\n",
    "WHERE p.name = {name}\n",
    "RETURN p\n",
    "\"\"\"\n",
    "\n",
    "relship = \"\"\"\n",
    "START n=node(*), m=node(*)  \n",
    "where exists(n.name) and exists(m.name) \n",
    "and n.name = {prev_state} \n",
    "and m.name = {next_state} \n",
    "create (n)-[:MOVES_TO]->(m)\n",
    "\"\"\"\n",
    "\n",
    "#data = graph.run(query, name=\"Nicole\")\n",
    "\n",
    "for v in g:\n",
    "    v_curr = str(v.getId())\n",
    "    x_curr = Node(\"State\", name = v_curr) # jupyter try\n",
    "    graph.create(x_curr) # jupyter try  \n",
    "    \n",
    "for v in g:\n",
    "    v_curr = str(v.getId())\n",
    "    x_curr = graph.run(query, name = v_curr) # jupyter try\n",
    "    for w in v.getConnections():\n",
    "        print(\"( %s, %s , %s )\" % (v.getId(), w.getId(), v.getWeight(w))) # printing all relationships\n",
    "        w_curr = str(w.getId())\n",
    "        y_curr = graph.run(query, name = w_curr) # jupyter try\n",
    "        graph.run(relship, prev_state = v_curr, next_state = w_curr)\n",
    "          \n",
    "draw(graph, options)\n",
    "\n"
   ]
  },
  {
   "cell_type": "markdown",
   "metadata": {
    "slideshow": {
     "slide_type": "slide"
    }
   },
   "source": [
    "# ipython-cypher\n",
    "\n",
    "`ipython-cypher` exposes `%cypher` magic in Jupyter. Install `ipython-cypher` with `pip install ipython-cypher`."
   ]
  },
  {
   "cell_type": "code",
   "execution_count": null,
   "metadata": {
    "collapsed": false,
    "slideshow": {
     "slide_type": "fragment"
    }
   },
   "outputs": [],
   "source": [
    "%load_ext cypher"
   ]
  },
  {
   "cell_type": "markdown",
   "metadata": {
    "slideshow": {
     "slide_type": "subslide"
    }
   },
   "source": [
    "## Use parametarized Cypher to find must_fail nodes\n",
    "\n",
    "Pass parameters to Cypher queries by passing additional key-value arguments to `Graph.cypher.execute.` Parameters in Cypher are named and are wrapped in curly braces.\n",
    "Must_fail nodes are all nodes that cannot move to another state.\n",
    "The cypher query is using directional directive and checks existance of possible relationships in given direction."
   ]
  },
  {
   "cell_type": "markdown",
   "metadata": {
    "slideshow": {
     "slide_type": "subslide"
    }
   },
   "source": [
    "## Cypher to find MUST_FAIL States\n",
    "\n",
    "Assumption is that the MUST_FAIL State definition is that it's the State that cannot produce the next State. \n",
    "To retrieve Cypher query results we use `Graph.cypher.execute` construct."
   ]
  },
  {
   "cell_type": "code",
   "execution_count": null,
   "metadata": {
    "collapsed": false,
    "slideshow": {
     "slide_type": "fragment"
    }
   },
   "outputs": [],
   "source": [
    "results = %cypher match (p) where not (p)-[:MOVES_TO]->() return p.name as State, count(*) as Must_Fail\n",
    "\n",
    "df = results.get_dataframe()\n",
    "must_fail_State = (str(df.iloc[0][0])).strip() # setting var for later use, could also setup an array by dumping df attr\n",
    "\n",
    "df"
   ]
  },
  {
   "cell_type": "markdown",
   "metadata": {
    "slideshow": {
     "slide_type": "subslide"
    }
   },
   "source": [
    "## DB Query for MUST_FAIL State\n",
    "\n",
    "This is direct Neo4j DB query, it should be run on Neo4j server.\n",
    "Using example from previous section it can be embedded to code to produce output in jupyter notebook.\n",
    "\n",
    "Assumption is that the MUST_FAIL State definition is that it's the State that cannot produce the next State"
   ]
  },
  {
   "cell_type": "code",
   "execution_count": null,
   "metadata": {
    "collapsed": false,
    "slideshow": {
     "slide_type": "fragment"
    }
   },
   "outputs": [],
   "source": [
    "#1\n",
    "MATCH (p) where not (p)-[:MOVES_TO]->() RETURN p.name as State, count(*) as Must_Fail\n",
    "# check if the State does not go to the next State (MUST_FAIL)"
   ]
  },
  {
   "cell_type": "markdown",
   "metadata": {
    "slideshow": {
     "slide_type": "subslide"
    }
   },
   "source": [
    "## DB Query for CAN_FAIL State\n",
    "\n",
    "This is direct Neo4j DB query, it should be run on Neo4j server. Using example from previous section it can be embedded to code to produce output in jupyter notebook.\n",
    "\n",
    "Assumption is that the CAN_FAIL State definition is that it's any State that eventually leads to the MUST_FAIL State."
   ]
  },
  {
   "cell_type": "code",
   "execution_count": null,
   "metadata": {
    "collapsed": false,
    "slideshow": {
     "slide_type": "fragment"
    }
   },
   "outputs": [],
   "source": [
    "#2\n",
    "MATCH (e) where not (e)-[:MOVES_TO]->() with e as n MATCH (p),(n), x = shortestPath((p)-[*..15]->(n))  return p.name\n",
    "# check if the State eventually goes to the MUST_FAIL State (CAN_FAIL)"
   ]
  },
  {
   "cell_type": "markdown",
   "metadata": {
    "slideshow": {
     "slide_type": "subslide"
    }
   },
   "source": [
    "## DB Query for finding non-deterministic States\n",
    "\n",
    "This is direct Neo4j DB query, it should be run on Neo4j server. Using example from previous section it can be embedded to code to produce output in jupyter notebook.\n",
    "\n",
    "Assumption is that the NonDeterministic State definition is that it's any State that has outgoing relationship with more than one State (including itself)."
   ]
  },
  {
   "cell_type": "code",
   "execution_count": null,
   "metadata": {
    "collapsed": false,
    "slideshow": {
     "slide_type": "fragment"
    }
   },
   "outputs": [],
   "source": [
    "#3\n",
    "start n=node(*) match (n)-[r]->() return n, count(r) as rel_count order by rel_count desc\n",
    "# get all nodes and the number of their outgoing relationships in descending order (NonDeterministic if count>1)"
   ]
  }
 ],
 "metadata": {
  "anaconda-cloud": {},
  "celltoolbar": "Slideshow",
  "kernelspec": {
   "display_name": "Python 3",
   "language": "python",
   "name": "python3"
  },
  "language_info": {
   "codemirror_mode": {
    "name": "ipython",
    "version": 3
   },
   "file_extension": ".py",
   "mimetype": "text/x-python",
   "name": "python",
   "nbconvert_exporter": "python",
   "pygments_lexer": "ipython3",
   "version": "3.5.2"
  }
 },
 "nbformat": 4,
 "nbformat_minor": 0
}
